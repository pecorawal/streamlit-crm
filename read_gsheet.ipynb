{
 "cells": [
  {
   "cell_type": "markdown",
   "metadata": {},
   "source": [
    "1. Instalando bibliotecas para leitura da planilha\n",
    "2. Set Up Google Cloud Project e Habilitar Sheets API\n",
    "3. Compartilhar sua planilha google com service account\n",
    "4. codigo python\n",
    "    Breakdown of the Code:\n",
    "        Import Libraries: Import necessary libraries.\n",
    "        Define Scope: Define the scope of the API.\n",
    "        Authenticate: Authenticate using the JSON credentials.\n",
    "        Open Sheet: Open the desired Google Sheet by its name.\n",
    "        Read Data: Read data from the specified range in the sheet.\n",
    "5. Executar script\n",
    "\n"
   ]
  },
  {
   "cell_type": "code",
   "execution_count": null,
   "metadata": {},
   "outputs": [],
   "source": [
    "pip install gspread oauth2client"
   ]
  }
 ],
 "metadata": {
  "kernelspec": {
   "display_name": "streamlit-crm",
   "language": "python",
   "name": "python3"
  },
  "language_info": {
   "name": "python",
   "version": "3.11.7"
  }
 },
 "nbformat": 4,
 "nbformat_minor": 2
}
