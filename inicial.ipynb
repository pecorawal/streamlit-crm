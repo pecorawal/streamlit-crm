{
 "cells": [
  {
   "cell_type": "markdown",
   "metadata": {},
   "source": [
    "# Passos a executar na criacao do CRM customizado\n",
    "1. Criar o banco de dados\n",
    "2. Criar o esquema de autenticacao (Oauth se possivel)\n",
    "3. Criar tela de cadastro de clientes\n",
    "4. Criar tela de cadastro de fornecedores\n",
    "5. Criar tela de cadastro de produtos\n",
    "6. Criar tela de cadastro de pontos de estoque\n",
    "7. Criar tela de entrada de orçamentos\n",
    "8. Criar tela de entrada de anuncios\n",
    "9. Criar tela de entrada de redes sociais\n"
   ]
  }
 ],
 "metadata": {
  "kernelspec": {
   "display_name": "streamlit-crm",
   "language": "python",
   "name": "python3"
  },
  "language_info": {
   "codemirror_mode": {
    "name": "ipython",
    "version": 3
   },
   "file_extension": ".py",
   "mimetype": "text/x-python",
   "name": "python",
   "nbconvert_exporter": "python",
   "pygments_lexer": "ipython3",
   "version": "3.11.7"
  }
 },
 "nbformat": 4,
 "nbformat_minor": 2
}
